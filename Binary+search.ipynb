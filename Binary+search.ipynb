{
 "cells": [
  {
   "cell_type": "code",
   "execution_count": 38,
   "metadata": {},
   "outputs": [
    {
     "name": "stdout",
     "output_type": "stream",
     "text": [
      "time to find the index of 65 in this array array('i', [16, 62, 86, 15, 26, 15, 72, 17, 37, 12, 73, 65])\n",
      "ok 11 is the index of 65 in the arrau\n"
     ]
    }
   ],
   "source": [
    "from array import *\n",
    "arr=array ('i', [16,62,86,15,26,15,72,17,37,12,73,65])\n",
    "def find_index_array():\n",
    "    n=65\n",
    "    in__an=[]\n",
    "    c=0\n",
    "    for ar in arr:\n",
    "        if n==ar:\n",
    "            print(f\"ok {c} is the index of 65 in the arrau\")\n",
    "            \n",
    "        else:\n",
    "            c=c+1\n",
    "            \n",
    "\n",
    "print(f\"time to find the index of 65 in this array {arr}\")\n",
    "find_index_array()"
   ]
  },
  {
   "cell_type": "code",
   "execution_count": null,
   "metadata": {},
   "outputs": [],
   "source": []
  }
 ],
 "metadata": {
  "kernelspec": {
   "display_name": "Python 3",
   "language": "python",
   "name": "python3"
  },
  "language_info": {
   "codemirror_mode": {
    "name": "ipython",
    "version": 3
   },
   "file_extension": ".py",
   "mimetype": "text/x-python",
   "name": "python",
   "nbconvert_exporter": "python",
   "pygments_lexer": "ipython3",
   "version": "3.11.6"
  }
 },
 "nbformat": 4,
 "nbformat_minor": 2
}
